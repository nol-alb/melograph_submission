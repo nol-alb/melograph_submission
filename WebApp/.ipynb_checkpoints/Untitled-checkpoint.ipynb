{
 "cells": [
  {
   "cell_type": "code",
   "execution_count": 1,
   "id": "bd1ade7b",
   "metadata": {},
   "outputs": [],
   "source": [
    "import os\n",
    "import glob\n",
    "import json\n",
    "import subprocess\n",
    "import numpy as np\n",
    "import networkx as nx\n",
    "import math\n",
    "import matplotlib.pyplot as plt\n",
    "\n",
    "def midi_to_note(midi):\n",
    "    notes = np.array(['C','C#','D','D#','E','F','F#','G','G#','A','A#','B'])\n",
    "    midi_range =np.array(['0','1','2','3','4','5','6','7'])\n",
    "    note_name = notes[midi%12]\n",
    "    note_range = midi_range[int(np.floor(midi/12 - 1))]\n",
    "    note = note_name+note_range\n",
    "    return note\n",
    "\n",
    "def make_graph():\n",
    "    with open('notes/test.npy', 'rb') as f1:\n",
    "        a = np.load(f1)\n",
    "    a = a.astype('int')\n",
    "    midi = []\n",
    "    print(a)\n",
    "    for i in a:\n",
    "        midi.append(midi_to_note(i))\n",
    "    notes = np.asarray(midi)\n",
    "    first_note=notes[0]\n",
    "    last_note=notes[-1]\n",
    "    swaras, counts=np.unique(notes, return_counts=True)\n",
    "    print(swaras, counts)\n",
    "    trans = []\n",
    "    trans2 = []\n",
    "    for i,j in enumerate(notes):\n",
    "        if (i+1)>=(np.size(notes)):\n",
    "            print(i)\n",
    "            transition = notes[np.size(notes)-2]+notes[np.size(notes)-1]\n",
    "            transition2 = [notes[np.size(notes)-2],notes[np.size(notes)-1]]\n",
    "            break\n",
    "        else:\n",
    "            transition = j+notes[i+1]\n",
    "            transition2 = [j,notes[i+1]]\n",
    "        trans.append(transition)\n",
    "        trans2.append(transition2)\n",
    "\n",
    "    trans_dic = {}\n",
    "    for i in trans:\n",
    "        trans_dic[i] = 0\n",
    "    for i in trans:\n",
    "        trans_dic[i] += 1  \n",
    "\n",
    "    dic = {}\n",
    "    for i in notes:\n",
    "        dic[i] = counts[np.where(swaras==i)[0][0]]\n",
    "    _, idx = np.unique(notes, return_index=True)\n",
    "    \n",
    "    \n",
    "    for i in range(len(counts)):\n",
    "        if counts[i]*10 < 30:\n",
    "            counts[i]=3\n",
    "    \n",
    "    counts=counts.tolist()\n",
    "    print(counts)\n",
    "    swaras = notes[np.sort(idx)]\n",
    "\n",
    "    data = {\"nodes\": [], \"edges\": []}\n",
    "\n",
    "    for i in range(len(swaras)):\n",
    "            \n",
    "            if swaras[i] == first_note:\n",
    "                data[\"nodes\"].append({ 'data': { 'id': str(swaras[i]), 'name': str(swaras[i]), 'type':'rectangle', 'weight': int(counts[i]*10), 'color' : 'red' }})\n",
    "            elif swaras[i] == last_note:\n",
    "                data[\"nodes\"].append({ 'data': { 'id': str(swaras[i]), 'name': str(swaras[i]), 'type':'rectangle', 'weight': int(counts[i]*10), 'color' : 'blue' }})\n",
    "            else:\n",
    "                data[\"nodes\"].append({ 'data': { 'id': swaras[i], 'name': swaras[i], 'weight': counts[i]*10, 'color': '#a38344' }})\n",
    "\n",
    "    for j in range(len(trans2)):\n",
    "        if trans2[j][0] in swaras and trans2[j][1] in swaras:\n",
    "            weight = trans2[j][0]+trans2[j][1]\n",
    "            data[\"edges\"].append({'data': { 'source': trans2[j][0], 'target': trans2[j][1], 'weight': trans_dic[weight] }})\n",
    "    print(data[\"nodes\"])\n",
    "    with open(\"data.json\", \"w\") as f3:\n",
    "            json.dump(data, f3)"
   ]
  },
  {
   "cell_type": "code",
   "execution_count": 27,
   "id": "7db5c5a4",
   "metadata": {},
   "outputs": [
    {
     "name": "stdout",
     "output_type": "stream",
     "text": [
      "[67 67 66 62 62 64 62 60 62 64 67 67 66 67 66 67 67 66 62 67 65 67 67 67\n",
      " 67 66 67 67 62 62 60 69 67 65 64 64 64]\n",
      "['A4' 'C4' 'D4' 'E4' 'F#4' 'F4' 'G4'] [ 1  2  7  5  5  2 15]\n",
      "36\n",
      "[5, 5, 7, 5, 5, 5, 15]\n",
      "[{'data': {'id': 'G4', 'name': 'G4', 'type': 'rectangle', 'weight': 50, 'color': 'red'}}, {'data': {'id': 'F#4', 'name': 'F#4', 'weight': 50, 'color': '#a38344'}}, {'data': {'id': 'D4', 'name': 'D4', 'weight': 70, 'color': '#a38344'}}, {'data': {'id': 'E4', 'name': 'E4', 'type': 'rectangle', 'weight': 50, 'color': 'blue'}}, {'data': {'id': 'C4', 'name': 'C4', 'weight': 50, 'color': '#a38344'}}, {'data': {'id': 'F4', 'name': 'F4', 'weight': 50, 'color': '#a38344'}}, {'data': {'id': 'A4', 'name': 'A4', 'weight': 150, 'color': '#a38344'}}]\n"
     ]
    }
   ],
   "source": [
    "make_graph()"
   ]
  },
  {
   "cell_type": "code",
   "execution_count": 28,
   "id": "a4a94763",
   "metadata": {},
   "outputs": [
    {
     "name": "stdout",
     "output_type": "stream",
     "text": [
      "{\"nodes\": [{\"data\": {\"id\": \"G4\", \"name\": \"G4\", \"type\": \"rectangle\", \"weight\": 50, \"color\": \"red\"}}, {\"data\": {\"id\": \"F#4\", \"name\": \"F#4\", \"weight\": 50, \"color\": \"#a38344\"}}, {\"data\": {\"id\": \"D4\", \"name\": \"D4\", \"weight\": 70, \"color\": \"#a38344\"}}, {\"data\": {\"id\": \"E4\", \"name\": \"E4\", \"type\": \"rectangle\", \"weight\": 50, \"color\": \"blue\"}}, {\"data\": {\"id\": \"C4\", \"name\": \"C4\", \"weight\": 50, \"color\": \"#a38344\"}}, {\"data\": {\"id\": \"F4\", \"name\": \"F4\", \"weight\": 50, \"color\": \"#a38344\"}}, {\"data\": {\"id\": \"A4\", \"name\": \"A4\", \"weight\": 150, \"color\": \"#a38344\"}}], \"edges\": [{\"data\": {\"source\": \"G4\", \"target\": \"G4\", \"weight\": 7}}, {\"data\": {\"source\": \"G4\", \"target\": \"F#4\", \"weight\": 5}}, {\"data\": {\"source\": \"F#4\", \"target\": \"D4\", \"weight\": 2}}, {\"data\": {\"source\": \"D4\", \"target\": \"D4\", \"weight\": 2}}, {\"data\": {\"source\": \"D4\", \"target\": \"E4\", \"weight\": 2}}, {\"data\": {\"source\": \"E4\", \"target\": \"D4\", \"weight\": 1}}, {\"data\": {\"source\": \"D4\", \"target\": \"C4\", \"weight\": 2}}, {\"data\": {\"source\": \"C4\", \"target\": \"D4\", \"weight\": 1}}, {\"data\": {\"source\": \"D4\", \"target\": \"E4\", \"weight\": 2}}, {\"data\": {\"source\": \"E4\", \"target\": \"G4\", \"weight\": 1}}, {\"data\": {\"source\": \"G4\", \"target\": \"G4\", \"weight\": 7}}, {\"data\": {\"source\": \"G4\", \"target\": \"F#4\", \"weight\": 5}}, {\"data\": {\"source\": \"F#4\", \"target\": \"G4\", \"weight\": 3}}, {\"data\": {\"source\": \"G4\", \"target\": \"F#4\", \"weight\": 5}}, {\"data\": {\"source\": \"F#4\", \"target\": \"G4\", \"weight\": 3}}, {\"data\": {\"source\": \"G4\", \"target\": \"G4\", \"weight\": 7}}, {\"data\": {\"source\": \"G4\", \"target\": \"F#4\", \"weight\": 5}}, {\"data\": {\"source\": \"F#4\", \"target\": \"D4\", \"weight\": 2}}, {\"data\": {\"source\": \"D4\", \"target\": \"G4\", \"weight\": 1}}, {\"data\": {\"source\": \"G4\", \"target\": \"F4\", \"weight\": 2}}, {\"data\": {\"source\": \"F4\", \"target\": \"G4\", \"weight\": 1}}, {\"data\": {\"source\": \"G4\", \"target\": \"G4\", \"weight\": 7}}, {\"data\": {\"source\": \"G4\", \"target\": \"G4\", \"weight\": 7}}, {\"data\": {\"source\": \"G4\", \"target\": \"G4\", \"weight\": 7}}, {\"data\": {\"source\": \"G4\", \"target\": \"F#4\", \"weight\": 5}}, {\"data\": {\"source\": \"F#4\", \"target\": \"G4\", \"weight\": 3}}, {\"data\": {\"source\": \"G4\", \"target\": \"G4\", \"weight\": 7}}, {\"data\": {\"source\": \"G4\", \"target\": \"D4\", \"weight\": 1}}, {\"data\": {\"source\": \"D4\", \"target\": \"D4\", \"weight\": 2}}, {\"data\": {\"source\": \"D4\", \"target\": \"C4\", \"weight\": 2}}, {\"data\": {\"source\": \"C4\", \"target\": \"A4\", \"weight\": 1}}, {\"data\": {\"source\": \"A4\", \"target\": \"G4\", \"weight\": 1}}, {\"data\": {\"source\": \"G4\", \"target\": \"F4\", \"weight\": 2}}, {\"data\": {\"source\": \"F4\", \"target\": \"E4\", \"weight\": 1}}, {\"data\": {\"source\": \"E4\", \"target\": \"E4\", \"weight\": 2}}, {\"data\": {\"source\": \"E4\", \"target\": \"E4\", \"weight\": 2}}]}"
     ]
    }
   ],
   "source": [
    "cat data.json"
   ]
  },
  {
   "cell_type": "code",
   "execution_count": null,
   "id": "3396928a",
   "metadata": {},
   "outputs": [],
   "source": []
  }
 ],
 "metadata": {
  "kernelspec": {
   "display_name": "Python 3 (ipykernel)",
   "language": "python",
   "name": "python3"
  },
  "language_info": {
   "codemirror_mode": {
    "name": "ipython",
    "version": 3
   },
   "file_extension": ".py",
   "mimetype": "text/x-python",
   "name": "python",
   "nbconvert_exporter": "python",
   "pygments_lexer": "ipython3",
   "version": "3.9.1"
  }
 },
 "nbformat": 4,
 "nbformat_minor": 5
}
